{
  "nbformat": 4,
  "nbformat_minor": 0,
  "metadata": {
    "colab": {
      "name": "Untitled4.ipynb",
      "provenance": [],
      "collapsed_sections": []
    },
    "kernelspec": {
      "name": "python3",
      "display_name": "Python 3"
    },
    "language_info": {
      "name": "python"
    }
  },
  "cells": [
    {
      "cell_type": "code",
      "execution_count": 1,
      "metadata": {
        "id": "qLNTP03nwd5X"
      },
      "outputs": [],
      "source": [
        "import numpy as np\n",
        "import math \n",
        "import pandas as pd\n",
        "from sklearn.utils import shuffle #usado apenas para embaralhar o df e esolher dados aleatoriamente\n",
        "from functools import reduce #transforma lista 2d em lista 1d\n",
        "import itertools #concatenar"
      ]
    },
    {
      "cell_type": "code",
      "source": [
        "import numpy as np\n",
        "import math \n",
        "import pandas as pd\n",
        "\n",
        "#classe nó. nó do interno possui mediana que separa planos e folha possui ponto\n",
        "class Node:\n",
        "    def __init__(self, left, right, data, depth, dim, classe):\n",
        "        self.left = left\n",
        "        self.right = right\n",
        "        self.data = data\n",
        "        self.depth = depth\n",
        "        self.dim = dim\n",
        "        self.classe = classe\n",
        "#classe que constroi a árvore       \n",
        "class KdTree:\n",
        "    \n",
        "    def __init__(self):\n",
        "        self.KdTree = \"KdTree\"\n",
        "    \n",
        "#função que constroi a árvore recursivamente        \n",
        "    def Build_kdTree(self, df, depth, dim):\n",
        "        #se estiver na  folha\n",
        "        if len(df) == 1:\n",
        "            #guarda info em um no\n",
        "            leaf = Node(None, None, (df).to_numpy(), depth, dim, df.iloc[-1,-1])\n",
        "            return leaf\n",
        "        #se não estiver na folha\n",
        "        sorted_df = df.sort_values(by = depth%dim)\n",
        "        cLeft = sorted_df.iloc[:len(sorted_df)//2, :]\n",
        "        cRight = sorted_df.iloc[len(sorted_df)//2:, :]\n",
        "        #recursão\n",
        "        vLeft = self.Build_kdTree(cLeft, depth + 1, dim)\n",
        "        vRight = self.Build_kdTree(cRight, depth + 1, dim)\n",
        "        \n",
        "        #calculos da mediana\n",
        "        if len(sorted_df)%2 == 0:\n",
        "            mediana =  ((cRight.iloc[0, depth%dim]) + (cLeft.iloc[-1, depth%dim])) / 2\n",
        "            #guarda info em um nó\n",
        "            inner = Node(vLeft, vRight, mediana, depth, dim, None) \n",
        "        else:\n",
        "            mediana = sorted_df.iloc[len(sorted_df)//2, depth%dim]\n",
        "            inner = Node(vLeft, vRight, mediana, depth, dim, None)\n",
        "        return inner\n",
        "  \n",
        "class x_nn:\n",
        "    def __init__(self):\n",
        "        self.x_nn = \"x_nn\"\n",
        "    #constroi arvore com treinamento\n",
        "    def buildTrainedKdTree(self, training_data):\n",
        "        tree = KdTree()\n",
        "        dim = len(df.columns)\n",
        "        tree = tree.Build_kdTree(training_data, 0, dim)  \n",
        "        return tree\n",
        "    #retorna lista de fila de prioridade\n",
        "    def classe(self, test_data, tree, k):\n",
        "        points = []\n",
        "        points = test_data.to_numpy()\n",
        "        queue = []\n",
        "        classes = []\n",
        "        ponto_teste = []\n",
        "        for i in points:\n",
        "          fila = self.searchKdtree(i, tree, queue, k)\n",
        "          for j in range(len(fila)):\n",
        "              classes = list(itertools.chain(classes, fila[j][1]))\n",
        "          classes = np.array(classes)   \n",
        "          classes = classes.flatten()\n",
        "          dicionario = { k : 0 for k in classes}\n",
        "          \n",
        "          for k in range(len(classes)):\n",
        "            dicionario[classes[k]] = dicionario[classes[k]] + 1\n",
        "          max_key = max(dicionario, key=dicionario.get)\n",
        "          ponto_teste.append([i, max_key])\n",
        "        return ponto_teste\n",
        "      \n",
        "    #calcula distancia euclediana      \n",
        "    def euclidean_distance(self, x, y):\n",
        "        return np.linalg.norm(x-y)\n",
        "    #insere ponto na lista na ordem certa mantendo o tamanho da fila de prioridade\n",
        "    def insert(self, lista, ponto):\n",
        "      pos = 0\n",
        "      for i in range(len(lista)):\n",
        "        if(ponto[0] < lista[i][0]):\n",
        "          queue = [lista[:pos]] + [ponto] + [lista[(pos):]]\n",
        "          break\n",
        "        pos =+ 1\n",
        "      return queue\n",
        "    #booleano que verifica se ponto pode ser inserido na fila de prioridade\n",
        "    def compare(self, lista, ponto):\n",
        "        pos = 0\n",
        "        for i in lista:\n",
        "          if(ponto[0] < i[0]):\n",
        "            return 1\n",
        "        return 0\n",
        "    #procura pontos mais proximos com restrição\n",
        "    def searchKdtree(self, point, tree, queue, k):\n",
        "      #passo base\n",
        "      if((tree.left == None) and (tree.right == None)):\n",
        "        dist = self.euclidean_distance(point, tree.data)\n",
        "        vaiprafila = [[dist], [tree.classe]]\n",
        "        #fila ainda nao esta cheia\n",
        "        if(len(queue) < k):\n",
        "          queue = queue + [vaiprafila]\n",
        "          queue = sorted(queue,key=lambda q:q[0])\n",
        "        #fila cheia\n",
        "        if(len(queue) == k):\n",
        "          if(self.compare(queue, vaiprafila) == 1):\n",
        "            self.insert(queue, vaiprafila)\n",
        "        #retorna fila\n",
        "        return queue\n",
        "      \n",
        "      #passo recursivo\n",
        "      #checa restrição(se mediana menor ou maior que coordenada correspondente do ponto)\n",
        "      if(point[tree.depth % tree.dim] > tree.data):\n",
        "        near = tree.right\n",
        "        oposite = tree.left\n",
        "      else:\n",
        "        near = tree.left\n",
        "        oposite = tree.right\n",
        "      #chama recursão apenas pro lado favoravel\n",
        "      queue = self.searchKdtree(point, near, queue, k)\n",
        "      if(len(queue)<k or point[tree.depth % tree.dim] < tree.data):\n",
        "        queue = self.searchKdtree(point, oposite, queue, k)\n",
        "      return queue\n",
        "    #calculo da acuracia    \n",
        "    def acuracia(self, pontos_proximos):      \n",
        "        certo = 0\n",
        "        errado = 0\n",
        "        for i in range(len(pontos_proximos)):\n",
        "          if(pontos_proximos[i][0][2] == pontos_proximos[i][1]):\n",
        "            certo +=1\n",
        "          else:\n",
        "            errado += 1 \n",
        "        acuracia = certo/(certo+errado)\n",
        "        return acuracia"
      ],
      "metadata": {
        "id": "9azuWMWcwglz"
      },
      "execution_count": 8,
      "outputs": []
    },
    {
      "cell_type": "code",
      "source": [
        "#leitura 1\n",
        "df = pd.read_csv('appendicitis.dat', sep=\",\", header=None)\n",
        "df = shuffle(df)\n",
        "\n",
        "#separa data de treino e de teste\n",
        "training_data = df.iloc[:len(df) * 7 // 10, :]\n",
        "test_data = df.iloc[len(df) * 7 // 10:, :]\n",
        "pontos_proximos=[]\n",
        "\n",
        "#criar um objeto da classe x_nn\n",
        "x = x_nn()\n",
        "#chamar função que faz árvore de treinamento\n",
        "tree = x.buildTrainedKdTree(training_data)\n",
        "#chamar função que retorna a classe adivinhada de cada ponto teste\n",
        "pontos_proximos = x.classe(test_data, tree, 5)\n",
        "#chamar função que calcula acuracia\n",
        "acuracia = x.acuracia(pontos_proximos)\n",
        "print(\"acuracia appendicitis.dat: \")\n",
        "print(acuracia)"
      ],
      "metadata": {
        "colab": {
          "base_uri": "https://localhost:8080/"
        },
        "id": "G9DicKFRwiOI",
        "outputId": "367b60b3-adcd-488f-ded3-ab56077585ca"
      },
      "execution_count": 7,
      "outputs": [
        {
          "output_type": "stream",
          "name": "stdout",
          "text": [
            "acuracia appendicitis.dat: \n",
            "0.03125\n"
          ]
        }
      ]
    },
    {
      "cell_type": "code",
      "source": [
        "#leitura 2\n",
        "df = pd.read_csv('monk-2.dat', sep=\",\", header=None)\n",
        "df = shuffle(df)\n",
        "\n",
        "training_data = df.iloc[:len(df) * 7 // 10, :]\n",
        "test_data = df.iloc[len(df) * 7 // 10:, :]\n",
        "pontos_proximos=[]\n",
        "\n",
        "x = x_nn()\n",
        "tree = x.buildTrainedKdTree(training_data)\n",
        "pontos_proximos = x.classe(test_data, tree, 5)\n",
        "acuracia = x.acuracia(pontos_proximos)\n",
        "print(\"acuracia monk-2.dat: \")\n",
        "print(acuracia)"
      ],
      "metadata": {
        "colab": {
          "base_uri": "https://localhost:8080/"
        },
        "id": "2TdqHJbyqMaI",
        "outputId": "7702cabd-ef91-4822-c9e4-331f861a352f"
      },
      "execution_count": 9,
      "outputs": [
        {
          "output_type": "stream",
          "name": "stdout",
          "text": [
            "acuracia monk-2.dat: \n",
            "0.47692307692307695\n"
          ]
        }
      ]
    },
    {
      "cell_type": "code",
      "source": [
        "#leitura 3\n",
        "df = pd.read_csv('led7digit.dat', sep=\",\", header=None)\n",
        "df = shuffle(df)\n",
        "\n",
        "training_data = df.iloc[:len(df) * 7 // 10, :]\n",
        "test_data = df.iloc[len(df) * 7 // 10:, :]\n",
        "pontos_proximos=[]\n",
        "\n",
        "x = x_nn()\n",
        "tree = x.buildTrainedKdTree(training_data)\n",
        "pontos_proximos = x.classe(test_data, tree, 5)\n",
        "acuracia = x.acuracia(pontos_proximos)\n",
        "print(\"led7digit.dat: \")\n",
        "print(acuracia)"
      ],
      "metadata": {
        "colab": {
          "base_uri": "https://localhost:8080/"
        },
        "id": "4oEfiFOtqWUz",
        "outputId": "b7c0651f-9749-4ceb-89a8-7ff449765354"
      },
      "execution_count": 10,
      "outputs": [
        {
          "output_type": "stream",
          "name": "stdout",
          "text": [
            "led7digit.dat: \n",
            "0.02\n"
          ]
        }
      ]
    }
  ]
}